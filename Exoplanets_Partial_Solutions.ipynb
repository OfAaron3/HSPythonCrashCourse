{
 "cells": [
  {
   "cell_type": "markdown",
   "metadata": {},
   "source": [
    "Now that we know the basics of python, we can try to do something useful with it.\n",
    "\n",
    "In the working directory of this notebook is a file called [planets.csv](planets.csv). This contains data on all confirmed exoplanets found by NASA, taken from [here](https://exoplanetarchive.ipac.caltech.edu/cgi-bin/TblView/nph-tblView?app=ExoTbls&config=planets). It has several columns for different attributes of the planets. Each row is the data on one planet. The details of each column are described in [planets-db-info.txt](planets-db-info.txt).\n",
    "\n",
    "We're going to read in the file and do some simple analysis on the data. The easiest way to read the data is using the `DictReader` class from the [`csv`](https://docs.python.org/3/library/csv.html) module."
   ]
  },
  {
   "cell_type": "code",
   "execution_count": 9,
   "metadata": {},
   "outputs": [
    {
     "name": "stdout",
     "output_type": "stream",
     "text": [
      "<class 'dict'>\n"
     ]
    }
   ],
   "source": [
    "from csv import DictReader\n",
    "\n",
    "with open('planets.csv') as dbfile :\n",
    "    dbreader = DictReader(dbfile)\n",
    "    planets = list(dbreader)"
   ]
  },
  {
   "cell_type": "markdown",
   "metadata": {},
   "source": [
    "Now, `planets` is a `list` with one `dict` per planet in the database. Each `dict` has a key and value for each column in the database."
   ]
  },
  {
   "cell_type": "code",
   "execution_count": null,
   "metadata": {},
   "outputs": [],
   "source": [
    "# Print all the info on the first planet:\n",
    "for column, value in planets[0].items() :\n",
    "    print(column.ljust(20), value)"
   ]
  },
  {
   "cell_type": "markdown",
   "metadata": {},
   "source": [
    "Now use the list of planets to:\n",
    "- Find the nearest and farthest planets (using the \"st_dist\" column).\n",
    "- Find the average of the planet mass (in Jupiter masses, using \"pl_masse\") and the average of the planet temperature (using \"pl_eqt\").\n",
    "- Count how many planets have been found each year (using \"pl_disc\").\n",
    "- Calculate a measure of how Earth-like each planet is using $(\\mathrm{pl\\_masse}-1)^2 + \\left(\\frac{\\mathrm{pl\\_eqt}-300}{300}\\right)^2 + (\\mathrm{pl\\_orbeccen}\\times 10)^2$. \"pl_orbeccen\" is the orbital eccentricity of the planet (how elliptical it is). Find the planet that's most Earth-like (has the lowest value of this measure).\n",
    "\n",
    "Note that the column values are all read in as strings, so you'll need to convert to `float` as necessary. Also, not all planets have values for every column, so you should skip those that're missing the column of interest."
   ]
  },
  {
   "cell_type": "code",
   "execution_count": 19,
   "metadata": {},
   "outputs": [
    {
     "name": "stdout",
     "output_type": "stream",
     "text": [
      "8500.0 1.29\n",
      "138.6705061312518\n"
     ]
    }
   ],
   "source": [
    "lg=0\n",
    "sm=1e6\n",
    "for i in planets:\n",
    "    if i['st_dist']!='':\n",
    "        if float(i['st_dist'])>lg:\n",
    "            lg=float(i['st_dist'])\n",
    "        if float(i['st_dist'])<sm:\n",
    "            sm=float(i['st_dist'])\n",
    "\n",
    "print(lg, sm)\n",
    "\n",
    "m=0\n",
    "for i in planets:\n",
    "    if i['pl_masse']!='':\n",
    "        m+=float(i['pl_masse'])\n",
    "m/=len(planets)\n",
    "print(m)"
   ]
  },
  {
   "cell_type": "markdown",
   "metadata": {},
   "source": [
    "As mentioned, [matplotlib](https://matplotlib.org/index.html) is great for graphical output in data analysis. Try to find out how to use `matplotlib.pyplot.hist` to make a histogram of the planets' orbital period (\"pl_orbper\"). This has quite a large range of values though the majority of planets in the database have quite short orbital periods, so you'll want to restrict the range between 0 and 200.\n",
    "\n",
    "Remember to use `help` to find out more about a function, or object."
   ]
  },
  {
   "cell_type": "code",
   "execution_count": 20,
   "metadata": {},
   "outputs": [],
   "source": [
    "%matplotlib inline\n",
    "import matplotlib.pyplot as plt"
   ]
  },
  {
   "cell_type": "code",
   "execution_count": null,
   "metadata": {},
   "outputs": [],
   "source": []
  },
  {
   "cell_type": "markdown",
   "metadata": {},
   "source": [
    "Try plotting some other properties like planet mass, or equilibrium temperature. How could you make this process more automated?"
   ]
  },
  {
   "cell_type": "code",
   "execution_count": 35,
   "metadata": {},
   "outputs": [],
   "source": [
    "def propplot(planets, prop, nbins, xmin, xmax) :\n",
    "    ''' This function is designed to plot multiple properties of planets. \n",
    "    This should only work for properties that are supposed to be numbers.'''\n",
    "    \n",
    "    propertylist = []\n",
    "    for i in planets:\n",
    "        if i[prop]!='':\n",
    "            planetprop = float(i[prop])\n",
    "            propertylist.append(planetprop)\n",
    "                \n",
    "    plt.hist(propertylist,nbins,[xmin,xmax])\n",
    "    plt.show()"
   ]
  },
  {
   "cell_type": "code",
   "execution_count": 36,
   "metadata": {},
   "outputs": [
    {
     "data": {
      "image/png": "[encoded data removed]",
      "text/plain": [
       "<matplotlib.figure.Figure at 0x7fd94a3ef5f8>"
      ]
     },
     "metadata": {},
     "output_type": "display_data"
    }
   ],
   "source": [
    "propplot(planets,'pl_masse',20,0,2000)"
   ]
  },
  {
   "cell_type": "markdown",
   "metadata": {},
   "source": [
    "Now try using `matplotlib.pyplot.hist2d` to make a plot of planet equilibrium temperature (in the range 0-3000) vs star effective temperature (\"st_teff\", in the range 0-10000)."
   ]
  },
  {
   "cell_type": "code",
   "execution_count": 90,
   "metadata": {},
   "outputs": [],
   "source": [
    "def propplot2d(planets, prop1, prop2, bins, xmin=0, xmax=0, ymin=0, ymax=0) :\n",
    "    ''' This function is designed to plot multiple properties of planets. \n",
    "    This should only work for properties that are supposed to be numbers.'''\n",
    "    \n",
    "    propertylist1 = []\n",
    "    propertylist2 = []\n",
    "    for i in planets:\n",
    "        if i[prop1]!='' and i[prop2]!='':\n",
    "            planetprop1 = float(i[prop1])\n",
    "            propertylist1.append(planetprop1)\n",
    "            planetprop2 = float(i[prop2])\n",
    "            propertylist2.append(planetprop2)\n",
    "    if ymin==0 and ymax==0:\n",
    "        yran=[min(propertylist2), max(propertylist2)]\n",
    "    else:\n",
    "        yran=[ymin, ymax]\n",
    "    if xmin==0 and xmax==0:\n",
    "        xran=[min(propertylist1), max(propertylist1)]\n",
    "    else:\n",
    "        xran=[xmin, xmax]\n",
    "    \n",
    "    print(xran) \n",
    "        \n",
    "    plt.hist2d(propertylist1, propertylist2)#, [bins,bins], [xran,yran])\n",
    "    \n",
    "    return propertylist1, propertylist2"
   ]
  },
  {
   "cell_type": "code",
   "execution_count": 75,
   "metadata": {},
   "outputs": [
    {
     "name": "stdout",
     "output_type": "stream",
     "text": [
      "[131.0, 4050.0]\n"
     ]
    },
    {
     "data": {
      "image/png": "[encoded data removed]",
      "text/plain": [
       "<matplotlib.figure.Figure at 0x7fd94a0e0a58>"
      ]
     },
     "metadata": {},
     "output_type": "display_data"
    }
   ],
   "source": [
    "propplot2d(planets, 'pl_eqt', 'st_teff',20,0,0,0,0) "
   ]
  },
  {
   "cell_type": "markdown",
   "metadata": {},
   "source": [
    "Try doing planet equilibrium temperature vs orbital period (in the range 0-200). How about vs 1/(orbital period) (in the range 0-1)?"
   ]
  },
  {
   "cell_type": "code",
   "execution_count": 76,
   "metadata": {},
   "outputs": [
    {
     "name": "stdout",
     "output_type": "stream",
     "text": [
      "[50.0, 4050.0]\n"
     ]
    },
    {
     "data": {
      "image/png": "[encoded data removed]",
      "text/plain": [
       "<matplotlib.figure.Figure at 0x7fd94a10c198>"
      ]
     },
     "metadata": {},
     "output_type": "display_data"
    }
   ],
   "source": [
    "propplot2d(planets, 'pl_eqt', 'pl_orbper',20,0,0,0,200) "
   ]
  },
  {
   "cell_type": "markdown",
   "metadata": {},
   "source": [
    "Now try using [numpy.polyfit](https://docs.scipy.org/doc/numpy/reference/generated/numpy.polyfit.html) to fit a straight line to the data used to make these plots."
   ]
  },
  {
   "cell_type": "code",
   "execution_count": 105,
   "metadata": {},
   "outputs": [],
   "source": [
    "from numpy import polyfit\n",
    "from numpy import multiply"
   ]
  },
  {
   "cell_type": "markdown",
   "metadata": {},
   "source": [
    "With lists, you cannot multiply them in a straightforward fashion as you would a number. For example, you cannot do [1,2,3] $\\times$ 4 and expect to get [4,8,12]. In this instance, you have to use the multiply functon from numpy."
   ]
  },
  {
   "cell_type": "code",
   "execution_count": 106,
   "metadata": {},
   "outputs": [
    {
     "data": {
      "text/plain": [
       "array([ 4,  8, 12])"
      ]
     },
     "execution_count": 106,
     "metadata": {},
     "output_type": "execute_result"
    }
   ],
   "source": [
    "multiply([1,2,3],4)"
   ]
  },
  {
   "cell_type": "code",
   "execution_count": 108,
   "metadata": {},
   "outputs": [
    {
     "name": "stdout",
     "output_type": "stream",
     "text": [
      "[131.0, 4050.0]\n"
     ]
    },
    {
     "data": {
      "text/plain": [
       "[<matplotlib.lines.Line2D at 0x7fd94a44e668>]"
      ]
     },
     "execution_count": 108,
     "metadata": {},
     "output_type": "execute_result"
    },
    {
     "data": {
      "image/png": "[encoded data removed]",
      "text/plain": [
       "<matplotlib.figure.Figure at 0x7fd94a0b0e80>"
      ]
     },
     "metadata": {},
     "output_type": "display_data"
    }
   ],
   "source": [
    "a,b = propplot2d(planets, 'pl_eqt', 'st_teff',20)\n",
    "m,c=polyfit(a,b,1)\n",
    "plt.plot(a, (multiply(m,a)+c), 'orange')"
   ]
  },
  {
   "cell_type": "markdown",
   "metadata": {},
   "source": [
    "Implement the 2D plotting and fitting as fuctions in your class.\n",
    "\n",
    "If you think of something else to try, go ahead! See what interesting info you can extract from the database.\n",
    "\n",
    "If you want to try some different challenges, have a look at [Project Euler](https://projecteuler.net/)."
   ]
  }
 ],
 "metadata": {
  "kernelspec": {
   "display_name": "Python 3",
   "language": "python",
   "name": "python3"
  },
  "language_info": {
   "codemirror_mode": {
    "name": "ipython",
    "version": 3
   },
   "file_extension": ".py",
   "mimetype": "text/x-python",
   "name": "python",
   "nbconvert_exporter": "python",
   "pygments_lexer": "ipython3",
   "version": "3.4.10"
  }
 },
 "nbformat": 4,
 "nbformat_minor": 2
}
